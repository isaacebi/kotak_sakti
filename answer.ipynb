{
 "cells": [
  {
   "attachments": {},
   "cell_type": "markdown",
   "metadata": {},
   "source": [
    "### Extraction"
   ]
  },
  {
   "cell_type": "code",
   "execution_count": 1,
   "metadata": {},
   "outputs": [],
   "source": [
    "from tabula import read_pdf\n",
    "import pandas as pd\n",
    "import numpy as np\n",
    "import sqlite3\n",
    "import os"
   ]
  },
  {
   "cell_type": "code",
   "execution_count": 2,
   "metadata": {},
   "outputs": [],
   "source": [
    "RES = os.path.join(os.getcwd(), 'res')\n",
    "\n",
    "DATA = os.path.join(RES, 'Pre-interview Questionnaire.pdf')\n",
    "BOOKSTORE = os.path.join(RES, 'bookstore.db')"
   ]
  },
  {
   "cell_type": "code",
   "execution_count": 3,
   "metadata": {},
   "outputs": [
    {
     "data": {
      "text/plain": [
       "[   id         name                   email           tel           created_at  \\\n",
       " 0   1  Irfan Bakti     irfan88@example.com  6.012346e+10  2019-08-07 08:13:21   \n",
       " 1   2  Jack Smmith     jack.smmith@acme.io  6.013246e+10  2019-08-07 08:13:21   \n",
       " 2   3        Nazir                     NaN  6.011854e+11  2019-08-07 08:13:21   \n",
       " 3   4      Faiz Ma       faiz.ma@jholow.cn  6.019772e+09  2019-08-07 08:13:21   \n",
       " 4   5   Isham Rais        isham@pmo.gov.my  6.013548e+10  2019-08-07 08:13:21   \n",
       " 5   6  Shanon Teoh  shahnon.teoh@st.com.sg           NaN  2019-08-07 08:13:21   \n",
       " \n",
       "             updated_at  \n",
       " 0  2019-08-07 08:13:21  \n",
       " 1  2019-08-07 08:13:21  \n",
       " 2  2019-08-07 08:13:21  \n",
       " 3  2019-08-07 08:13:21  \n",
       " 4  2019-08-07 08:13:21  \n",
       " 5  2019-08-07 08:13:21  ,\n",
       "    id    number  sub_total  tax_total  total  customer_id  \\\n",
       " 0   1  20190001       30.0        0.0   30.0            1   \n",
       " 1   2  20190002      150.0        0.0  150.0            2   \n",
       " 2   3  20190003       30.0        0.0   30.0            2   \n",
       " 3   4  20190004       55.0        0.0   55.0            3   \n",
       " 4   5  20190005      450.0        0.0    0.0            6   \n",
       " \n",
       "             created_at           updated_at  \n",
       " 0  2019-08-07 08:13:21  2019-08-07 08:13:21  \n",
       " 1  2019-08-07 08:13:21  2019-08-07 08:13:21  \n",
       " 2  2019-09-15 08:13:21  2019-09-15 08:13:21  \n",
       " 3  2019-09-15 08:13:21  2019-09-15 08:13:21  \n",
       " 4  2019-09-15 08:13:21  2019-09-15 08:13:21  ,\n",
       "    id description  unit_price  quantity  sub_total  tax_total  total tax_id  \\\n",
       " 0   1     Book #1        30.0         1       30.0        0.0   30.0   NULL   \n",
       " 1   2     Book #2        25.0         4      100.0        0.0  100.0   NULL   \n",
       " 2   3     Book #3        50.0         1       50.0        0.0   50.0   NULL   \n",
       " 3   4     Book #1        30.0         1       30.0        0.0   30.0   NULL   \n",
       " 4   5     Book #1        30.0         1       30.0        0.0   30.0   NULL   \n",
       " 5   6     Book #2        25.0         1       25.0        0.0   25.0   NULL   \n",
       " 6   7     Book #1        30.0         5      150.0        0.0  150.0   NULL   \n",
       " 7   8     Book #3        50.0         6      300.0        0.0  300.0   NULL   \n",
       " \n",
       "    sku_id  invoice_id  \n",
       " 0       1           1  \n",
       " 1       2           2  \n",
       " 2       3           2  \n",
       " 3       1           3  \n",
       " 4       1           4  \n",
       " 5       2           4  \n",
       " 6       1           5  \n",
       " 7       3           5  ]"
      ]
     },
     "execution_count": 3,
     "metadata": {},
     "output_type": "execute_result"
    }
   ],
   "source": [
    "# read data\n",
    "df = read_pdf(DATA, pages='all', multiple_tables=True)\n",
    "df"
   ]
  },
  {
   "cell_type": "code",
   "execution_count": 4,
   "metadata": {},
   "outputs": [
    {
     "data": {
      "text/plain": [
       "3"
      ]
     },
     "execution_count": 4,
     "metadata": {},
     "output_type": "execute_result"
    }
   ],
   "source": [
    "len(df) # so the len of df is 3 equivalent to 3 tables"
   ]
  },
  {
   "cell_type": "code",
   "execution_count": 5,
   "metadata": {},
   "outputs": [],
   "source": [
    "tables = [\n",
    "    'customers',\n",
    "    'invoices',\n",
    "    'invoice_lines'\n",
    "]"
   ]
  },
  {
   "attachments": {},
   "cell_type": "markdown",
   "metadata": {},
   "source": [
    "## Loading"
   ]
  },
  {
   "cell_type": "code",
   "execution_count": 6,
   "metadata": {},
   "outputs": [],
   "source": [
    "# create local SQL from dataframe\n",
    "def df_to_sqlite3(dataframe, tablesName, database):\n",
    "    conn = sqlite3.connect(database)\n",
    "    \n",
    "    # simple sanity check\n",
    "    assert len(dataframe)==len(tablesName), 'Check extracted table or table names'\n",
    "    \n",
    "    for i in range(len(dataframe)):\n",
    "        dataframe[i].to_sql(tablesName[i], conn, if_exists='replace', index=False)\n",
    "\n",
    "    conn.close()"
   ]
  },
  {
   "cell_type": "code",
   "execution_count": 7,
   "metadata": {},
   "outputs": [],
   "source": [
    "df_to_sqlite3(df, tables, BOOKSTORE)"
   ]
  },
  {
   "cell_type": "markdown",
   "metadata": {},
   "source": [
    "## Environment\n",
    "Make sure you run this in jupyter notebook instead of VScode notebook, this SQL environment will only applicable. If error rise you may need further setting for ipython-sql settings. Either 'pip' or 'conda' depending on your own environment configuration."
   ]
  },
  {
   "cell_type": "code",
   "execution_count": 8,
   "metadata": {
    "scrolled": true
   },
   "outputs": [
    {
     "data": {
      "text/plain": [
       "'Connected: @res/bookstore.db'"
      ]
     },
     "execution_count": 8,
     "metadata": {},
     "output_type": "execute_result"
    }
   ],
   "source": [
    "# SQL to run in jupyter notebook\n",
    "%load_ext sql\n",
    "%sql sqlite:///res/bookstore.db"
   ]
  },
  {
   "attachments": {},
   "cell_type": "markdown",
   "metadata": {},
   "source": [
    "## Question 1"
   ]
  },
  {
   "attachments": {},
   "cell_type": "markdown",
   "metadata": {},
   "source": [
    "To my best knowledge and understanding, Data Engineer roles are as the job name implies is to deals with data. Based on my limited experiences, data engineer do three main things, extraction, transform and loading (for usage). While I believed in large traffic, data engineer also deals with optimization for speed or velocity of incoming and outcoming of data. In an essence, data engineer is the people whom will deals with the data pipeline and maintaining its operation. While I believed that data should be secured, data security is also a concern in this upcoming era."
   ]
  },
  {
   "attachments": {},
   "cell_type": "markdown",
   "metadata": {},
   "source": [
    "## Question 2 - a"
   ]
  },
  {
   "cell_type": "code",
   "execution_count": 9,
   "metadata": {},
   "outputs": [
    {
     "name": "stdout",
     "output_type": "stream",
     "text": [
      " * sqlite:///res/bookstore.db\n",
      "Done.\n"
     ]
    },
    {
     "data": {
      "text/html": [
       "<table>\n",
       "    <thead>\n",
       "        <tr>\n",
       "            <th>name</th>\n",
       "        </tr>\n",
       "    </thead>\n",
       "    <tbody>\n",
       "        <tr>\n",
       "            <td>customers</td>\n",
       "        </tr>\n",
       "        <tr>\n",
       "            <td>invoices</td>\n",
       "        </tr>\n",
       "        <tr>\n",
       "            <td>invoice_lines</td>\n",
       "        </tr>\n",
       "    </tbody>\n",
       "</table>"
      ],
      "text/plain": [
       "[('customers',), ('invoices',), ('invoice_lines',)]"
      ]
     },
     "execution_count": 9,
     "metadata": {},
     "output_type": "execute_result"
    }
   ],
   "source": [
    "%%sql\n",
    "\n",
    "SELECT name\n",
    "FROM sqlite_schema"
   ]
  },
  {
   "attachments": {},
   "cell_type": "markdown",
   "metadata": {},
   "source": [
    "## Question 2 - b"
   ]
  },
  {
   "cell_type": "code",
   "execution_count": 10,
   "metadata": {},
   "outputs": [
    {
     "name": "stdout",
     "output_type": "stream",
     "text": [
      " * sqlite:///res/bookstore.db\n",
      "Done.\n"
     ]
    },
    {
     "data": {
      "text/html": [
       "<table>\n",
       "    <thead>\n",
       "        <tr>\n",
       "            <th>name</th>\n",
       "            <th>quantity</th>\n",
       "        </tr>\n",
       "    </thead>\n",
       "    <tbody>\n",
       "        <tr>\n",
       "            <td>Irfan Bakti</td>\n",
       "            <td>1</td>\n",
       "        </tr>\n",
       "        <tr>\n",
       "            <td>Jack Smmith</td>\n",
       "            <td>4</td>\n",
       "        </tr>\n",
       "        <tr>\n",
       "            <td>Jack Smmith</td>\n",
       "            <td>1</td>\n",
       "        </tr>\n",
       "        <tr>\n",
       "            <td>Jack Smmith</td>\n",
       "            <td>1</td>\n",
       "        </tr>\n",
       "        <tr>\n",
       "            <td>Nazir</td>\n",
       "            <td>1</td>\n",
       "        </tr>\n",
       "        <tr>\n",
       "            <td>Nazir</td>\n",
       "            <td>1</td>\n",
       "        </tr>\n",
       "        <tr>\n",
       "            <td>Shanon Teoh</td>\n",
       "            <td>5</td>\n",
       "        </tr>\n",
       "        <tr>\n",
       "            <td>Shanon Teoh</td>\n",
       "            <td>6</td>\n",
       "        </tr>\n",
       "    </tbody>\n",
       "</table>"
      ],
      "text/plain": [
       "[('Irfan Bakti', 1),\n",
       " ('Jack Smmith', 4),\n",
       " ('Jack Smmith', 1),\n",
       " ('Jack Smmith', 1),\n",
       " ('Nazir', 1),\n",
       " ('Nazir', 1),\n",
       " ('Shanon Teoh', 5),\n",
       " ('Shanon Teoh', 6)]"
      ]
     },
     "execution_count": 10,
     "metadata": {},
     "output_type": "execute_result"
    }
   ],
   "source": [
    "%%sql\n",
    "\n",
    "SELECT c.name, il.quantity\n",
    "FROM customers AS c\n",
    "LEFT JOIN invoices AS i\n",
    "ON c.id = i.customer_id\n",
    "RIGHT JOIN invoice_lines AS il\n",
    "ON i.id = il.invoice_id"
   ]
  },
  {
   "cell_type": "code",
   "execution_count": 11,
   "metadata": {},
   "outputs": [
    {
     "name": "stdout",
     "output_type": "stream",
     "text": [
      " * sqlite:///res/bookstore.db\n",
      "Done.\n"
     ]
    },
    {
     "data": {
      "text/html": [
       "<table>\n",
       "    <thead>\n",
       "        <tr>\n",
       "            <th>name</th>\n",
       "            <th>total_quantity</th>\n",
       "        </tr>\n",
       "    </thead>\n",
       "    <tbody>\n",
       "        <tr>\n",
       "            <td>Jack Smmith</td>\n",
       "            <td>6</td>\n",
       "        </tr>\n",
       "        <tr>\n",
       "            <td>Shanon Teoh</td>\n",
       "            <td>11</td>\n",
       "        </tr>\n",
       "    </tbody>\n",
       "</table>"
      ],
      "text/plain": [
       "[('Jack Smmith', 6), ('Shanon Teoh', 11)]"
      ]
     },
     "execution_count": 11,
     "metadata": {},
     "output_type": "execute_result"
    }
   ],
   "source": [
    "%%sql\n",
    "\n",
    "SELECT *\n",
    "FROM (\n",
    "    SELECT c.name, SUM(il.quantity) AS total_quantity\n",
    "    FROM customers AS c\n",
    "    LEFT JOIN invoices AS i\n",
    "    ON c.id = i.customer_id\n",
    "    RIGHT JOIN invoice_lines AS il\n",
    "    ON i.id = il.invoice_id\n",
    "    GROUP BY c.name\n",
    ")\n",
    "\n",
    "WHERE total_quantity > 5"
   ]
  },
  {
   "attachments": {},
   "cell_type": "markdown",
   "metadata": {},
   "source": [
    "## Question 2 - c"
   ]
  },
  {
   "cell_type": "code",
   "execution_count": 12,
   "metadata": {},
   "outputs": [
    {
     "name": "stdout",
     "output_type": "stream",
     "text": [
      " * sqlite:///res/bookstore.db\n",
      "Done.\n"
     ]
    },
    {
     "data": {
      "text/html": [
       "<table>\n",
       "    <thead>\n",
       "        <tr>\n",
       "            <th>name</th>\n",
       "            <th>quantity</th>\n",
       "        </tr>\n",
       "    </thead>\n",
       "    <tbody>\n",
       "        <tr>\n",
       "            <td>Irfan Bakti</td>\n",
       "            <td>1</td>\n",
       "        </tr>\n",
       "        <tr>\n",
       "            <td>Jack Smmith</td>\n",
       "            <td>4</td>\n",
       "        </tr>\n",
       "        <tr>\n",
       "            <td>Jack Smmith</td>\n",
       "            <td>1</td>\n",
       "        </tr>\n",
       "        <tr>\n",
       "            <td>Jack Smmith</td>\n",
       "            <td>1</td>\n",
       "        </tr>\n",
       "        <tr>\n",
       "            <td>Nazir</td>\n",
       "            <td>1</td>\n",
       "        </tr>\n",
       "        <tr>\n",
       "            <td>Nazir</td>\n",
       "            <td>1</td>\n",
       "        </tr>\n",
       "        <tr>\n",
       "            <td>Faiz Ma</td>\n",
       "            <td>None</td>\n",
       "        </tr>\n",
       "        <tr>\n",
       "            <td>Isham Rais</td>\n",
       "            <td>None</td>\n",
       "        </tr>\n",
       "        <tr>\n",
       "            <td>Shanon Teoh</td>\n",
       "            <td>5</td>\n",
       "        </tr>\n",
       "        <tr>\n",
       "            <td>Shanon Teoh</td>\n",
       "            <td>6</td>\n",
       "        </tr>\n",
       "    </tbody>\n",
       "</table>"
      ],
      "text/plain": [
       "[('Irfan Bakti', 1),\n",
       " ('Jack Smmith', 4),\n",
       " ('Jack Smmith', 1),\n",
       " ('Jack Smmith', 1),\n",
       " ('Nazir', 1),\n",
       " ('Nazir', 1),\n",
       " ('Faiz Ma', None),\n",
       " ('Isham Rais', None),\n",
       " ('Shanon Teoh', 5),\n",
       " ('Shanon Teoh', 6)]"
      ]
     },
     "execution_count": 12,
     "metadata": {},
     "output_type": "execute_result"
    }
   ],
   "source": [
    "%%sql\n",
    "\n",
    "SELECT c.name, il.quantity\n",
    "FROM customers AS c\n",
    "FULL JOIN invoices AS i\n",
    "ON c.id = i.customer_id\n",
    "FULL JOIN invoice_lines AS il\n",
    "ON i.id = il.invoice_id"
   ]
  },
  {
   "cell_type": "code",
   "execution_count": 13,
   "metadata": {},
   "outputs": [
    {
     "name": "stdout",
     "output_type": "stream",
     "text": [
      " * sqlite:///res/bookstore.db\n",
      "Done.\n"
     ]
    },
    {
     "data": {
      "text/html": [
       "<table>\n",
       "    <thead>\n",
       "        <tr>\n",
       "            <th>name</th>\n",
       "            <th>total_quantity</th>\n",
       "        </tr>\n",
       "    </thead>\n",
       "    <tbody>\n",
       "        <tr>\n",
       "            <td>Faiz Ma</td>\n",
       "            <td>None</td>\n",
       "        </tr>\n",
       "        <tr>\n",
       "            <td>Isham Rais</td>\n",
       "            <td>None</td>\n",
       "        </tr>\n",
       "    </tbody>\n",
       "</table>"
      ],
      "text/plain": [
       "[('Faiz Ma', None), ('Isham Rais', None)]"
      ]
     },
     "execution_count": 13,
     "metadata": {},
     "output_type": "execute_result"
    }
   ],
   "source": [
    "%%sql\n",
    "\n",
    "SELECT *\n",
    "FROM (\n",
    "    SELECT c.name, SUM(il.quantity) AS total_quantity\n",
    "    FROM customers AS c\n",
    "    FULL JOIN invoices AS i\n",
    "    ON c.id = i.customer_id\n",
    "    FULL JOIN invoice_lines AS il\n",
    "    ON i.id = il.invoice_id\n",
    "\n",
    "    GROUP BY c.name\n",
    ")\n",
    "\n",
    "WHERE total_quantity IS NULL"
   ]
  },
  {
   "attachments": {},
   "cell_type": "markdown",
   "metadata": {},
   "source": [
    "## Question 2 - d"
   ]
  },
  {
   "cell_type": "code",
   "execution_count": 14,
   "metadata": {},
   "outputs": [
    {
     "name": "stdout",
     "output_type": "stream",
     "text": [
      " * sqlite:///res/bookstore.db\n",
      "Done.\n"
     ]
    },
    {
     "data": {
      "text/html": [
       "<table>\n",
       "    <thead>\n",
       "        <tr>\n",
       "            <th>name</th>\n",
       "            <th>description</th>\n",
       "        </tr>\n",
       "    </thead>\n",
       "    <tbody>\n",
       "        <tr>\n",
       "            <td>Irfan Bakti</td>\n",
       "            <td>Book #1</td>\n",
       "        </tr>\n",
       "        <tr>\n",
       "            <td>Jack Smmith</td>\n",
       "            <td>Book #2</td>\n",
       "        </tr>\n",
       "        <tr>\n",
       "            <td>Jack Smmith</td>\n",
       "            <td>Book #3</td>\n",
       "        </tr>\n",
       "        <tr>\n",
       "            <td>Jack Smmith</td>\n",
       "            <td>Book #1</td>\n",
       "        </tr>\n",
       "        <tr>\n",
       "            <td>Nazir</td>\n",
       "            <td>Book #1</td>\n",
       "        </tr>\n",
       "        <tr>\n",
       "            <td>Nazir</td>\n",
       "            <td>Book #2</td>\n",
       "        </tr>\n",
       "        <tr>\n",
       "            <td>Shanon Teoh</td>\n",
       "            <td>Book #1</td>\n",
       "        </tr>\n",
       "        <tr>\n",
       "            <td>Shanon Teoh</td>\n",
       "            <td>Book #3</td>\n",
       "        </tr>\n",
       "    </tbody>\n",
       "</table>"
      ],
      "text/plain": [
       "[('Irfan Bakti', 'Book #1'),\n",
       " ('Jack Smmith', 'Book #2'),\n",
       " ('Jack Smmith', 'Book #3'),\n",
       " ('Jack Smmith', 'Book #1'),\n",
       " ('Nazir', 'Book #1'),\n",
       " ('Nazir', 'Book #2'),\n",
       " ('Shanon Teoh', 'Book #1'),\n",
       " ('Shanon Teoh', 'Book #3')]"
      ]
     },
     "execution_count": 14,
     "metadata": {},
     "output_type": "execute_result"
    }
   ],
   "source": [
    "%%sql\n",
    "\n",
    "SELECT c.name, il.description\n",
    "FROM customers AS c\n",
    "LEFT JOIN invoices AS i\n",
    "ON c.id = i.customer_id\n",
    "RIGHT JOIN invoice_lines AS il\n",
    "ON i.id = il.invoice_id"
   ]
  },
  {
   "attachments": {},
   "cell_type": "markdown",
   "metadata": {},
   "source": [
    "## Question 3"
   ]
  },
  {
   "attachments": {},
   "cell_type": "markdown",
   "metadata": {},
   "source": [
    "I believed that all the proposed DQL proven to work as to my best understanding for the questions given"
   ]
  },
  {
   "attachments": {},
   "cell_type": "markdown",
   "metadata": {},
   "source": [
    "## Question 4 - a"
   ]
  },
  {
   "attachments": {},
   "cell_type": "markdown",
   "metadata": {},
   "source": [
    "The following will be answered based to my limited experiences, for Real time API in XML which I assumed to be an online store will be based on the feedback or events whether 'selling' action is occurs. Then,a JSON file for a particular item will be feed into the main data. The concern in this method is when multiple people are triggring the event which may overloads the server and then leads to breaking the pipeline. While I am not sure what's the best practice, but supposed breaking the channeling data into several channel will make the system able to handle larger data at a higher cost and while cost is a concern for most business, an appropriate 'projected sales' may needed to built an optimal pipeline.\n",
    "\n",
    "Platform (JSON) &rarr; Request data for every 'events' - Request API &rarr; Update to main database"
   ]
  },
  {
   "attachments": {},
   "cell_type": "markdown",
   "metadata": {},
   "source": [
    "## Question 4 - b"
   ]
  },
  {
   "attachments": {},
   "cell_type": "markdown",
   "metadata": {},
   "source": [
    "Based on Google search, File Transfer Protocol (FTP) are used for the transfer of computer files from a server to a client on a computer network. For example in counting the number of egg produced, a counter will be used to collect the real time data locally and then synchronize into the server. I think the important part in this system is to make sure the data are stable during the synchronize phase such as isolation between ongoing data and synchronize data. This also may offer cheaper option compared to real time data as the velocity is constants.\n",
    "\n",
    "Digitalization or get farm data via sensor &rarr; Data collection through computer &rarr; Hourly batch file generation in FTP server"
   ]
  },
  {
   "attachments": {},
   "cell_type": "markdown",
   "metadata": {},
   "source": [
    "## Question 4 - c"
   ]
  },
  {
   "attachments": {},
   "cell_type": "markdown",
   "metadata": {},
   "source": [
    "Download the excel file from website, extract, transform and lastly feed into the main data. Personally I would just type a script to download it automatically from the website and extract the information as well as deleted the download file. This extra steps will saves a little bit of spaces as excel files will be deleted. While there are services that offer this kind of automation, GitAction offer a free tier services.\n",
    "\n",
    "Download excel &rarr; Extract file &rarr; Feed to main database"
   ]
  }
 ],
 "metadata": {
  "kernelspec": {
   "display_name": "Python 3 (ipykernel)",
   "language": "python",
   "name": "python3"
  },
  "language_info": {
   "codemirror_mode": {
    "name": "ipython",
    "version": 3
   },
   "file_extension": ".py",
   "mimetype": "text/x-python",
   "name": "python",
   "nbconvert_exporter": "python",
   "pygments_lexer": "ipython3",
   "version": "3.10.6 | packaged by conda-forge | (main, Aug 22 2022, 20:30:19) [MSC v.1929 64 bit (AMD64)]"
  },
  "vscode": {
   "interpreter": {
    "hash": "867d73edd1de623093551910352d494977a70840e1e34e67ca526b524d5da070"
   }
  }
 },
 "nbformat": 4,
 "nbformat_minor": 4
}
